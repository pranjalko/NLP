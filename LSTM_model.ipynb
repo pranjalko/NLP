{
  "nbformat": 4,
  "nbformat_minor": 0,
  "metadata": {
    "colab": {
      "provenance": [],
      "authorship_tag": "ABX9TyNGyhq4cgxnD4YccYKRT0Se",
      "include_colab_link": true
    },
    "kernelspec": {
      "name": "python3",
      "display_name": "Python 3"
    },
    "language_info": {
      "name": "python"
    }
  },
  "cells": [
    {
      "cell_type": "markdown",
      "metadata": {
        "id": "view-in-github",
        "colab_type": "text"
      },
      "source": [
        "<a href=\"https://colab.research.google.com/github/pranjalko/NLP/blob/main/LSTM_model.ipynb\" target=\"_parent\"><img src=\"https://colab.research.google.com/assets/colab-badge.svg\" alt=\"Open In Colab\"/></a>"
      ]
    },
    {
      "cell_type": "code",
      "execution_count": null,
      "metadata": {
        "id": "CMDZwtJPX4tS"
      },
      "outputs": [],
      "source": [
        "from keras.datasets import imdb\n",
        "from keras.preprocessing import sequence\n",
        "import tensorflow as tf\n",
        "import os\n",
        "import numpy as np\n",
        "\n",
        "VOCAB_SIZE = 88584\n",
        "\n",
        "MAXLEN = 250\n",
        "BATCH_SIZE = 64\n",
        "\n",
        "(train_data, train_labels) , (test_data, test_labels) = imdb.load_data(num_words = VOCAB_SIZE)\n"
      ]
    },
    {
      "cell_type": "code",
      "source": [
        "from keras.utils import pad_sequences\n"
      ],
      "metadata": {
        "id": "Zr28GNSvf3vL"
      },
      "execution_count": null,
      "outputs": []
    },
    {
      "cell_type": "code",
      "source": [
        "\n",
        "train_data = pad_sequences(train_data, MAXLEN)\n",
        "test_data = pad_sequences(test_data, MAXLEN)"
      ],
      "metadata": {
        "id": "uTN5DKHmd8c3"
      },
      "execution_count": null,
      "outputs": []
    },
    {
      "cell_type": "code",
      "source": [
        "model = tf.keras.Sequential([\n",
        "    tf.keras.layers.Embedding(VOCAB_SIZE, 32),\n",
        "    tf.keras.layers.LSTM(32),\n",
        "    tf.keras.layers.Dense(1, activation=\"sigmoid\")\n",
        "])"
      ],
      "metadata": {
        "id": "WKO7Lx68eh-y"
      },
      "execution_count": null,
      "outputs": []
    },
    {
      "cell_type": "code",
      "source": [
        "model.summary()"
      ],
      "metadata": {
        "colab": {
          "base_uri": "https://localhost:8080/"
        },
        "id": "coYNRuvDl11o",
        "outputId": "fe6b9404-ff78-4993-e20f-f51420aab3d3"
      },
      "execution_count": null,
      "outputs": [
        {
          "output_type": "stream",
          "name": "stdout",
          "text": [
            "Model: \"sequential\"\n",
            "_________________________________________________________________\n",
            " Layer (type)                Output Shape              Param #   \n",
            "=================================================================\n",
            " embedding (Embedding)       (None, None, 32)          2834688   \n",
            "                                                                 \n",
            " lstm (LSTM)                 (None, 32)                8320      \n",
            "                                                                 \n",
            " dense (Dense)               (None, 1)                 33        \n",
            "                                                                 \n",
            "=================================================================\n",
            "Total params: 2,843,041\n",
            "Trainable params: 2,843,041\n",
            "Non-trainable params: 0\n",
            "_________________________________________________________________\n"
          ]
        }
      ]
    },
    {
      "cell_type": "code",
      "source": [
        "model.compile(loss=\"binary_crossentropy\" , optimizer=\"rmsprop\", metrics=['acc'])\n",
        "\n",
        "history = model.fit(train_data, train_labels , epochs=10 , validation_split=0.2)"
      ],
      "metadata": {
        "colab": {
          "base_uri": "https://localhost:8080/"
        },
        "id": "cGN145n2jx3y",
        "outputId": "2f058556-f0b2-4b2d-858b-eb785b3ebe0a"
      },
      "execution_count": null,
      "outputs": [
        {
          "output_type": "stream",
          "name": "stdout",
          "text": [
            "Epoch 1/10\n",
            "625/625 [==============================] - 92s 142ms/step - loss: 0.4458 - acc: 0.7852 - val_loss: 0.3250 - val_acc: 0.8646\n",
            "Epoch 2/10\n",
            "625/625 [==============================] - 70s 111ms/step - loss: 0.2565 - acc: 0.9022 - val_loss: 0.2839 - val_acc: 0.8840\n",
            "Epoch 3/10\n",
            "625/625 [==============================] - 66s 106ms/step - loss: 0.2014 - acc: 0.9260 - val_loss: 0.2855 - val_acc: 0.8786\n",
            "Epoch 4/10\n",
            "625/625 [==============================] - 66s 106ms/step - loss: 0.1648 - acc: 0.9412 - val_loss: 0.2939 - val_acc: 0.8870\n",
            "Epoch 5/10\n",
            "625/625 [==============================] - 65s 104ms/step - loss: 0.1356 - acc: 0.9528 - val_loss: 0.3014 - val_acc: 0.8816\n",
            "Epoch 6/10\n",
            "625/625 [==============================] - 65s 103ms/step - loss: 0.1153 - acc: 0.9620 - val_loss: 0.3074 - val_acc: 0.8814\n",
            "Epoch 7/10\n",
            "625/625 [==============================] - 66s 105ms/step - loss: 0.0961 - acc: 0.9682 - val_loss: 0.5177 - val_acc: 0.8744\n",
            "Epoch 8/10\n",
            "625/625 [==============================] - 66s 105ms/step - loss: 0.0839 - acc: 0.9737 - val_loss: 0.4181 - val_acc: 0.8730\n",
            "Epoch 9/10\n",
            "625/625 [==============================] - 62s 99ms/step - loss: 0.0716 - acc: 0.9771 - val_loss: 0.3965 - val_acc: 0.8816\n",
            "Epoch 10/10\n",
            "625/625 [==============================] - 64s 102ms/step - loss: 0.0591 - acc: 0.9819 - val_loss: 0.4251 - val_acc: 0.8744\n"
          ]
        }
      ]
    },
    {
      "cell_type": "code",
      "source": [
        "results = model.evaluate(test_data, test_labels)\n",
        "print(results)"
      ],
      "metadata": {
        "colab": {
          "base_uri": "https://localhost:8080/"
        },
        "id": "qYQjssk4lzic",
        "outputId": "fa255b35-1384-4aa0-d65e-ad0996bd8d83"
      },
      "execution_count": null,
      "outputs": [
        {
          "output_type": "stream",
          "name": "stdout",
          "text": [
            "782/782 [==============================] - 20s 26ms/step - loss: 0.5193 - acc: 0.8520\n",
            "[0.5193368196487427, 0.8520399928092957]\n"
          ]
        }
      ]
    },
    {
      "cell_type": "code",
      "source": [
        "import keras\n",
        "from keras.utils import pad_sequences\n"
      ],
      "metadata": {
        "id": "TGaUXRjbcxLB"
      },
      "execution_count": null,
      "outputs": []
    },
    {
      "cell_type": "code",
      "source": [
        "word_index = imdb.get_word_index()\n",
        "\n",
        "def encode_text(text):\n",
        "  tokens = keras.preprocessing.text.text_to_word_sequence(text)\n",
        "  tokens = [word_index[word] if word in word_index else 0 for word in tokens]\n",
        "  return pad_sequences([tokens],  MAXLEN)[0]\n"
      ],
      "metadata": {
        "id": "PBJBgFuBc16C"
      },
      "execution_count": null,
      "outputs": []
    },
    {
      "cell_type": "code",
      "source": [
        "text = \"bad movie , plot was average in first half , then went out of context in secand good\"\n",
        "encoded = encode_text(text)\n",
        "print(encoded)"
      ],
      "metadata": {
        "colab": {
          "base_uri": "https://localhost:8080/"
        },
        "id": "obDnnHVmi0tr",
        "outputId": "79ee9419-ae87-4557-b7cb-bdc5a27bcf16"
      },
      "execution_count": null,
      "outputs": [
        {
          "output_type": "stream",
          "name": "stdout",
          "text": [
            "[   0    0    0    0    0    0    0    0    0    0    0    0    0    0\n",
            "    0    0    0    0    0    0    0    0    0    0    0    0    0    0\n",
            "    0    0    0    0    0    0    0    0    0    0    0    0    0    0\n",
            "    0    0    0    0    0    0    0    0    0    0    0    0    0    0\n",
            "    0    0    0    0    0    0    0    0    0    0    0    0    0    0\n",
            "    0    0    0    0    0    0    0    0    0    0    0    0    0    0\n",
            "    0    0    0    0    0    0    0    0    0    0    0    0    0    0\n",
            "    0    0    0    0    0    0    0    0    0    0    0    0    0    0\n",
            "    0    0    0    0    0    0    0    0    0    0    0    0    0    0\n",
            "    0    0    0    0    0    0    0    0    0    0    0    0    0    0\n",
            "    0    0    0    0    0    0    0    0    0    0    0    0    0    0\n",
            "    0    0    0    0    0    0    0    0    0    0    0    0    0    0\n",
            "    0    0    0    0    0    0    0    0    0    0    0    0    0    0\n",
            "    0    0    0    0    0    0    0    0    0    0    0    0    0    0\n",
            "    0    0    0    0    0    0    0    0    0    0    0    0    0    0\n",
            "    0    0    0    0    0    0    0    0    0    0    0    0    0    0\n",
            "    0    0    0    0    0    0    0    0    0    0   75   17  111   13\n",
            "  853    8   83  317   92  432   43    4 2005    8    0   49]\n"
          ]
        }
      ]
    },
    {
      "cell_type": "code",
      "source": [
        "def predict(text):\n",
        "  encoded_text = encode_text(text)\n",
        "  pred = np.zeros((1,250))\n",
        "  pred[0] = encoded_text\n",
        "  result = model.predict(pred)\n",
        "  print(result[0])\n",
        "\n",
        "\n"
      ],
      "metadata": {
        "id": "Dx0oyfYmi1Lh"
      },
      "execution_count": null,
      "outputs": []
    },
    {
      "cell_type": "code",
      "source": [
        "predict(text)"
      ],
      "metadata": {
        "colab": {
          "base_uri": "https://localhost:8080/"
        },
        "id": "czHZKE4xpmDR",
        "outputId": "6f326ed3-b875-4611-8028-d933038e5510"
      },
      "execution_count": null,
      "outputs": [
        {
          "output_type": "stream",
          "name": "stdout",
          "text": [
            "1/1 [==============================] - 0s 453ms/step\n",
            "[0.49850744]\n"
          ]
        }
      ]
    },
    {
      "cell_type": "code",
      "source": [],
      "metadata": {
        "id": "bc9RzaBZLJMd"
      },
      "execution_count": null,
      "outputs": []
    }
  ]
}